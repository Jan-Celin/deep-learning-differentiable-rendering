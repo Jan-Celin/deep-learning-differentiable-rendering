{
  "cells": [
    {
      "cell_type": "markdown",
      "metadata": {
        "id": "ISfvEc6QTF3-"
      },
      "source": [
        "# Contents"
      ]
    },
    {
      "cell_type": "markdown",
      "metadata": {
        "colab_type": "toc",
        "id": "3sm0O5eaS_TM"
      },
      "source": [
        ">[Contents](#scrollTo=ISfvEc6QTF3-)\n",
        "\n",
        ">[Imports and Setup](#scrollTo=LzQFZNKL0uHb)\n",
        "\n",
        ">[Create the Mesh](#scrollTo=ToNMP7mC797Y)\n",
        "\n",
        ">[Create the renderer](#scrollTo=avCqYaNn8fi7)\n",
        "\n",
        ">[Create a basic ML model](#scrollTo=NOyG2PbN-NXI)\n",
        "\n",
        ">[Experiments](#scrollTo=0ni9zstuIsfs)\n",
        "\n",
        ">>[Optimizing only weights (baseline)](#scrollTo=lAuhSR-TSelq)\n",
        "\n",
        ">>[Optimizing colors and weights simultaneously](#scrollTo=aZLeUrEfSDlY)\n",
        "\n"
      ]
    },
    {
      "cell_type": "markdown",
      "metadata": {
        "id": "LzQFZNKL0uHb"
      },
      "source": [
        "# Imports and Setup"
      ]
    },
    {
      "cell_type": "code",
      "execution_count": null,
      "metadata": {
        "colab": {
          "base_uri": "https://localhost:8080/"
        },
        "id": "bZOib7ug1IAM",
        "outputId": "dcb6535f-dfcb-4b87-de07-7881b5cafced"
      },
      "outputs": [],
      "source": [
        "!pip install ninja"
      ]
    },
    {
      "cell_type": "code",
      "execution_count": null,
      "metadata": {
        "id": "8S4Q4YBbp73o"
      },
      "outputs": [],
      "source": [
        "import os\n",
        "import sys\n",
        "import torch\n",
        "need_pytorch3d=False\n",
        "try:\n",
        "    import pytorch3d\n",
        "except ModuleNotFoundError:\n",
        "    need_pytorch3d=True\n",
        "if need_pytorch3d:\n",
        "    if torch.__version__.startswith(\"2.2.\") and sys.platform.startswith(\"linux\"):\n",
        "        # We try to install PyTorch3D via a released wheel.\n",
        "        pyt_version_str=torch.__version__.split(\"+\")[0].replace(\".\", \"\")\n",
        "        version_str=\"\".join([\n",
        "            f\"py3{sys.version_info.minor}_cu\",\n",
        "            torch.version.cuda.replace(\".\",\"\"),\n",
        "            f\"_pyt{pyt_version_str}\"\n",
        "        ])\n",
        "        !pip install fvcore iopath\n",
        "        !pip install --no-index --no-cache-dir pytorch3d -f https://dl.fbaipublicfiles.com/pytorch3d/packaging/wheels/{version_str}/download.html\n",
        "    else:\n",
        "        # We try to install PyTorch3D from source.\n",
        "        !pip install 'git+https://github.com/facebookresearch/pytorch3d.git@stable'"
      ]
    },
    {
      "cell_type": "code",
      "execution_count": null,
      "metadata": {
        "id": "DFhWLt5w1N22"
      },
      "outputs": [],
      "source": [
        "import os\n",
        "import torch\n",
        "import numpy as np\n",
        "from tqdm.notebook import tqdm\n",
        "import imageio\n",
        "import torch.nn as nn\n",
        "import torch.nn.functional as F\n",
        "import matplotlib.pyplot as plt\n",
        "from skimage import img_as_ubyte\n",
        "\n",
        "from pytorch3d.io import load_obj\n",
        "from pytorch3d.structures import Meshes\n",
        "from pytorch3d.utils import ico_sphere\n",
        "from pytorch3d.transforms import Rotate, Translate, RotateAxisAngle\n",
        "from pytorch3d.renderer import (\n",
        "    FoVPerspectiveCameras, look_at_view_transform, look_at_rotation,\n",
        "    RasterizationSettings, MeshRenderer, MeshRasterizer, BlendParams,\n",
        "    SoftSilhouetteShader, HardPhongShader, PointLights, TexturesVertex,\n",
        ")\n",
        "from pytorch3d.loss import mesh_laplacian_smoothing\n",
        "\n",
        "import torch\n",
        "import torch.nn as nn\n",
        "import torch.optim as optim"
      ]
    },
    {
      "cell_type": "markdown",
      "metadata": {
        "id": "ToNMP7mC797Y"
      },
      "source": [
        "# Create the Sphere Mesh"
      ]
    },
    {
      "cell_type": "code",
      "execution_count": null,
      "metadata": {
        "id": "5E26uNrs8Epf"
      },
      "outputs": [],
      "source": [
        "device = torch.device(\"cuda\") if torch.cuda.is_available() else torch.device(\"cpu\")"
      ]
    },
    {
      "cell_type": "code",
      "execution_count": null,
      "metadata": {
        "id": "E1UgRkGU1m41"
      },
      "outputs": [],
      "source": [
        "sphere_mesh = ico_sphere(4, device)\n",
        "\n",
        "verts = sphere_mesh.verts_packed()\n",
        "verts_min = verts.min(dim=0, keepdim=True)[0]\n",
        "verts_max = verts.max(dim=0, keepdim=True)[0]\n",
        "normalized_verts = (verts - verts_min) / (verts_max - verts_min)\n",
        "\n",
        "vertex_colors = nn.Parameter(normalized_verts.unsqueeze(0))\n",
        "textures = TexturesVertex(verts_features=vertex_colors)\n",
        "sphere_mesh.textures = textures"
      ]
    },
    {
      "cell_type": "markdown",
      "metadata": {
        "id": "avCqYaNn8fi7"
      },
      "source": [
        "# Create the renderer\n",
        "The renderer needs a rasterizer and a shader."
      ]
    },
    {
      "cell_type": "code",
      "execution_count": null,
      "metadata": {
        "id": "NDQTNPPLNmjr"
      },
      "outputs": [],
      "source": [
        "image_size = 128"
      ]
    },
    {
      "cell_type": "code",
      "execution_count": null,
      "metadata": {
        "id": "H4PtDx2g8fBG"
      },
      "outputs": [],
      "source": [
        "cameras = FoVPerspectiveCameras(\n",
        "  device=device,\n",
        "  T=torch.tensor([[0.0, 0.0, 3.0]], device=device)\n",
        ")\n",
        "\n",
        "raster_settings = RasterizationSettings(\n",
        "  image_size = image_size,\n",
        "  blur_radius = 0.0,\n",
        "  faces_per_pixel = 1,\n",
        ")\n",
        "lights = PointLights(device = device, location=[[0.0, 0.0, -3.0]])\n",
        "\n",
        "renderer = MeshRenderer(\n",
        "  rasterizer = MeshRasterizer(\n",
        "    cameras=cameras,\n",
        "    raster_settings=raster_settings\n",
        "  ),\n",
        "  shader = HardPhongShader(\n",
        "    device = device,\n",
        "    cameras=cameras,\n",
        "    lights=lights\n",
        "  )\n",
        ")"
      ]
    },
    {
      "cell_type": "code",
      "execution_count": null,
      "metadata": {
        "colab": {
          "base_uri": "https://localhost:8080/",
          "height": 452
        },
        "id": "kpR5jJg79mFx",
        "outputId": "94b569ab-0d41-425b-be83-9f7124bf9717"
      },
      "outputs": [],
      "source": [
        "image = renderer(sphere_mesh, cameras=cameras, lights=lights)\n",
        "plt.imshow(image[0, ..., :].detach().cpu().numpy())"
      ]
    },
    {
      "cell_type": "markdown",
      "metadata": {
        "id": "NOyG2PbN-NXI"
      },
      "source": [
        "# Create a basic ML model"
      ]
    },
    {
      "cell_type": "code",
      "execution_count": null,
      "metadata": {
        "id": "AelMH2E4GnOd"
      },
      "outputs": [],
      "source": [
        "class RotationPredictor(nn.Module):\n",
        "    def __init__(self):\n",
        "        super(RotationPredictor, self).__init__()\n",
        "        self.conv1 = nn.Conv2d(3, 32, 3, padding=1)\n",
        "        self.conv2 = nn.Conv2d(32, 64, 3, padding=1)\n",
        "        self.conv3 = nn.Conv2d(64, 128, 3, padding=1)\n",
        "        self.pool = nn.MaxPool2d(2, 2)\n",
        "        self.fc1 = nn.Linear(128 * 16 * 16, 512)\n",
        "        self.fc2 = nn.Linear(512, 1)\n",
        "        self.relu = nn.ReLU()\n",
        "\n",
        "    def forward(self, x):\n",
        "        x = self.pool(self.relu(self.conv1(x)))\n",
        "        x = self.pool(self.relu(self.conv2(x)))\n",
        "        x = self.pool(self.relu(self.conv3(x)))\n",
        "        x = x.contiguous().view(-1, 128 * 16 * 16)\n",
        "        x = self.relu(self.fc1(x))\n",
        "        x = self.fc2(x)\n",
        "        return x"
      ]
    },
    {
      "cell_type": "markdown",
      "metadata": {
        "id": "PwjQaIA9SNSS"
      },
      "source": [
        "## Helper functions\n",
        "We also need some helper functions for rotating and visualizing the spheres while training."
      ]
    },
    {
      "cell_type": "code",
      "execution_count": null,
      "metadata": {
        "id": "OboF-8TXidFK"
      },
      "outputs": [],
      "source": [
        "def create_rotated_sphere(sphere_mesh, angle_degrees, device):\n",
        "  angle = torch.tensor([angle_degrees * np.pi / 180.0], device=device)\n",
        "\n",
        "  rot_y = torch.tensor([[torch.cos(angle), 0, torch.sin(angle)],\n",
        "                        [0, 1, 0],\n",
        "                        [-torch.sin(angle), 0, torch.cos(angle)]], device=device)\n",
        "\n",
        "  rotated_verts = sphere_mesh.verts_packed() @ rot_y.T\n",
        "\n",
        "  rotated_mesh = Meshes(\n",
        "    verts=[rotated_verts],\n",
        "    faces=[sphere_mesh.faces_packed()],\n",
        "    textures=sphere_mesh.textures\n",
        "  )\n",
        "\n",
        "  return rotated_mesh"
      ]
    },
    {
      "cell_type": "code",
      "execution_count": null,
      "metadata": {
        "id": "bHFfOYPFlOAc"
      },
      "outputs": [],
      "source": [
        "def visualize_sphere(sphere_mesh, vertex_colors, renderer, cameras, lights):\n",
        "  with torch.no_grad():\n",
        "    num_verts = sphere_mesh.verts_packed().shape[0]\n",
        "\n",
        "    vertex_colors_vis = vertex_colors.clone().detach()\n",
        "    vertex_colors_vis = vertex_colors_vis.reshape(1, num_verts, 3)\n",
        "\n",
        "    textures = TexturesVertex(verts_features=vertex_colors_vis)\n",
        "\n",
        "    vis_mesh = Meshes(\n",
        "        verts=[sphere_mesh.verts_packed()],\n",
        "        faces=[sphere_mesh.faces_packed()],\n",
        "        textures=textures\n",
        "    )\n",
        "\n",
        "    image = renderer(vis_mesh, cameras=cameras, lights=lights)\n",
        "    plt.figure(figsize=(10, 10))\n",
        "    plt.imshow(image[0, ..., :3].cpu().numpy())\n",
        "    plt.axis('off')\n",
        "    plt.show()\n"
      ]
    },
    {
      "cell_type": "markdown",
      "metadata": {
        "id": "_McEInbeBvJR"
      },
      "source": [
        "## Train and test loops"
      ]
    },
    {
      "cell_type": "code",
      "execution_count": null,
      "metadata": {
        "id": "Pb_ukhAHBjkb"
      },
      "outputs": [],
      "source": [
        "def train_model(model, optimizer, mesh, vertex_colors, renderer, cameras, lights, num_epochs=500, batch_size=32, lr=0.001, criterion=nn.MSELoss(), use_smoothing_loss=False):\n",
        "  for epoch in range(num_epochs):\n",
        "    total_loss = 0\n",
        "\n",
        "    for i in range(batch_size):\n",
        "      optimizer.zero_grad()\n",
        "\n",
        "      textures = TexturesVertex(verts_features=vertex_colors)\n",
        "      mesh.textures = textures\n",
        "      angle = np.random.randint(0, 360)\n",
        "      rotated_sphere = create_rotated_sphere(mesh, angle, device)\n",
        "\n",
        "      image = renderer(rotated_sphere, cameras=cameras, lights=lights)\n",
        "      image = image[..., :3].contiguous().permute(0, 3, 1, 2)\n",
        "\n",
        "      predicted_angle = model(image)\n",
        "      target_angle = torch.tensor([[angle * np.pi / 180.0]], device=device)\n",
        "\n",
        "      loss = criterion(predicted_angle, target_angle)\n",
        "      if use_smoothing_loss:\n",
        "          loss += mesh_laplacian_smoothing(mesh, method=\"uniform\")\n",
        "\n",
        "      loss.backward()\n",
        "\n",
        "      total_loss += loss.item()\n",
        "\n",
        "    optimizer.step()\n",
        "\n",
        "    if (epoch + 1) % 100 == 0:\n",
        "        print(f\"Epoch [{epoch+1}/{num_epochs}], Loss: {total_loss/36:.4f}\")\n",
        "        visualize_sphere(mesh, vertex_colors, renderer, cameras, lights)"
      ]
    },
    {
      "cell_type": "code",
      "execution_count": null,
      "metadata": {
        "id": "YHodyCHtU7m2"
      },
      "outputs": [],
      "source": [
        "def test_model(model, sphere_mesh, renderer, cameras, lights, num_tests=500):\n",
        "  total_squared_error = 0\n",
        "  with torch.no_grad():\n",
        "    for i in range(num_tests):\n",
        "      angle = np.random.randint(0, 360)\n",
        "      rotated_sphere = create_rotated_sphere(sphere_mesh, angle, device)\n",
        "\n",
        "      image = renderer(rotated_sphere, cameras=cameras, lights=lights)\n",
        "      image = image[..., :3].contiguous().permute(0, 3, 1, 2)\n",
        "\n",
        "      predicted_angle = model(image)\n",
        "\n",
        "      predicted_angle_degrees = predicted_angle.item() * 180 / np.pi\n",
        "      squared_error = (angle - predicted_angle_degrees) ** 2\n",
        "      total_squared_error += squared_error\n",
        "\n",
        "  mse = np.sqrt(total_squared_error / num_tests)\n",
        "  return mse\n"
      ]
    },
    {
      "cell_type": "markdown",
      "metadata": {
        "id": "0ni9zstuIsfs"
      },
      "source": [
        "# Experiments"
      ]
    },
    {
      "cell_type": "markdown",
      "metadata": {
        "id": "lAuhSR-TSelq"
      },
      "source": [
        "## Optimizing only the weights (baseline)"
      ]
    },
    {
      "cell_type": "code",
      "execution_count": null,
      "metadata": {
        "id": "C7j-Ah2pShqt"
      },
      "outputs": [],
      "source": [
        "model = RotationPredictor().to(device)\n",
        "\n",
        "optimizer = optim.Adam([\n",
        "    {'params': model.parameters()}\n",
        "], lr=0.001)\n",
        "\n",
        "criterion = nn.MSELoss()"
      ]
    },
    {
      "cell_type": "code",
      "execution_count": null,
      "metadata": {
        "id": "bi3_OLL4LHAy"
      },
      "outputs": [],
      "source": [
        "sphere_mesh = ico_sphere(4, device)\n",
        "\n",
        "verts = sphere_mesh.verts_packed()\n",
        "verts_min = verts.min(dim=0, keepdim=True)[0]\n",
        "verts_max = verts.max(dim=0, keepdim=True)[0]\n",
        "normalized_verts = (verts - verts_min) / (verts_max - verts_min)\n",
        "\n",
        "vertex_colors = nn.Parameter(normalized_verts.unsqueeze(0))\n",
        "textures = TexturesVertex(verts_features=vertex_colors)\n",
        "sphere_mesh.textures = textures"
      ]
    },
    {
      "cell_type": "code",
      "execution_count": null,
      "metadata": {
        "colab": {
          "base_uri": "https://localhost:8080/",
          "height": 1000
        },
        "id": "gZX5KpHru0q0",
        "outputId": "cbac10e3-0bde-4424-f9e8-4a096ae10a61"
      },
      "outputs": [],
      "source": [
        "train_model(model, optimizer, sphere_mesh, vertex_colors, renderer, cameras, lights, num_epochs=5000, batch_size=16)"
      ]
    },
    {
      "cell_type": "code",
      "execution_count": null,
      "metadata": {
        "id": "rSFMooDfTn4a"
      },
      "outputs": [],
      "source": [
        "num_tests=500\n",
        "rmse = test_model(model, sphere_mesh, renderer, cameras, lights, num_tests)\n",
        "print(f\"Root mean squared error over {num_tests} tests: {rmse:.2f} (degrees).\")"
      ]
    },
    {
      "cell_type": "markdown",
      "metadata": {
        "id": "aZLeUrEfSDlY"
      },
      "source": [
        "## Optimizing the colors and the weights simultaneously\n",
        "The vertex colors were declared as a neural network parameter (nn.Parameter), so they will be learned during training."
      ]
    },
    {
      "cell_type": "code",
      "execution_count": null,
      "metadata": {
        "id": "9X_5i58OixGP"
      },
      "outputs": [],
      "source": [
        "model = RotationPredictor().to(device)\n",
        "\n",
        "optimizer = optim.Adam([\n",
        "    {'params': model.parameters()},\n",
        "    {'params': [vertex_colors], 'lr': 0.001}\n",
        "], lr=0.001)\n",
        "\n",
        "criterion = nn.MSELoss()"
      ]
    },
    {
      "cell_type": "code",
      "execution_count": null,
      "metadata": {
        "id": "8idwHlHuLJIb"
      },
      "outputs": [],
      "source": [
        "sphere_mesh = ico_sphere(4, device)\n",
        "\n",
        "verts = sphere_mesh.verts_packed()\n",
        "verts_min = verts.min(dim=0, keepdim=True)[0]\n",
        "verts_max = verts.max(dim=0, keepdim=True)[0]\n",
        "normalized_verts = (verts - verts_min) / (verts_max - verts_min)\n",
        "\n",
        "vertex_colors = nn.Parameter(normalized_verts.unsqueeze(0))\n",
        "textures = TexturesVertex(verts_features=vertex_colors)\n",
        "sphere_mesh.textures = textures"
      ]
    },
    {
      "cell_type": "code",
      "execution_count": null,
      "metadata": {
        "id": "EXPo9TI1JCDp"
      },
      "outputs": [],
      "source": [
        "train_model(model, optimizer, sphere_mesh, vertex_colors, renderer, cameras, lights, num_epochs=5000, batch_size=16)"
      ]
    },
    {
      "cell_type": "code",
      "execution_count": null,
      "metadata": {
        "id": "891H2NVVmEj6"
      },
      "outputs": [],
      "source": [
        "num_tests=500\n",
        "rmse = test_model(model, sphere_mesh, renderer, cameras, lights, num_tests=500)\n",
        "print(f\"Root mean squared error over {num_tests} tests: {rmse:.2f} (degrees).\")"
      ]
    },
    {
      "cell_type": "markdown",
      "metadata": {
        "id": "WtnC7n4jWMao"
      },
      "source": [
        "## Optimizing the colors and the weights simultaneously with smoothing."
      ]
    },
    {
      "cell_type": "markdown",
      "metadata": {
        "id": "QdTVG3HbB7xa"
      },
      "source": [
        "To prevent chaotic color changes, a laplacian smoothing loss can be included in the training loop."
      ]
    },
    {
      "cell_type": "code",
      "execution_count": null,
      "metadata": {
        "id": "pYWD9lcVWUcL"
      },
      "outputs": [],
      "source": [
        "model = RotationPredictor().to(device)\n",
        "\n",
        "optimizer = optim.Adam([\n",
        "    {'params': model.parameters()},\n",
        "    {'params': [vertex_colors], 'lr': 0.001}\n",
        "], lr=0.001)\n",
        "\n",
        "criterion = nn.MSELoss()"
      ]
    },
    {
      "cell_type": "code",
      "execution_count": null,
      "metadata": {
        "id": "Yb9etmQcLLOg"
      },
      "outputs": [],
      "source": [
        "sphere_mesh = ico_sphere(4, device)\n",
        "\n",
        "verts = sphere_mesh.verts_packed()\n",
        "verts_min = verts.min(dim=0, keepdim=True)[0]\n",
        "verts_max = verts.max(dim=0, keepdim=True)[0]\n",
        "normalized_verts = (verts - verts_min) / (verts_max - verts_min)\n",
        "\n",
        "vertex_colors = nn.Parameter(normalized_verts.unsqueeze(0))\n",
        "textures = TexturesVertex(verts_features=vertex_colors)\n",
        "sphere_mesh.textures = textures"
      ]
    },
    {
      "cell_type": "code",
      "execution_count": null,
      "metadata": {
        "id": "1wyzFSMyWYEB"
      },
      "outputs": [],
      "source": [
        "train_model(model, optimizer, sphere_mesh, vertex_colors, renderer, cameras, lights, num_epochs=5000, batch_size=16, use_smoothing_loss=True)"
      ]
    },
    {
      "cell_type": "code",
      "execution_count": null,
      "metadata": {
        "id": "n9cvVLw__3Kv"
      },
      "outputs": [],
      "source": [
        "num_tests=500\n",
        "rmse = test_model(model, sphere_mesh, renderer, cameras, lights, num_tests=500)\n",
        "print(f\"Root mean squared error over {num_tests} tests: {rmse:.2f} (degrees).\")"
      ]
    },
    {
      "cell_type": "code",
      "execution_count": null,
      "metadata": {
        "id": "3EXoQdMfAllK"
      },
      "outputs": [],
      "source": []
    }
  ],
  "metadata": {
    "accelerator": "GPU",
    "colab": {
      "gpuType": "T4",
      "provenance": [],
      "toc_visible": true
    },
    "kernelspec": {
      "display_name": "Python 3",
      "name": "python3"
    },
    "language_info": {
      "name": "python"
    }
  },
  "nbformat": 4,
  "nbformat_minor": 0
}
